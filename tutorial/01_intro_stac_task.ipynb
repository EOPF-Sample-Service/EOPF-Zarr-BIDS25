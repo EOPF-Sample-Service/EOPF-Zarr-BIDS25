{
 "cells": [
  {
   "cell_type": "markdown",
   "id": "b18d896e",
   "metadata": {},
   "source": [
    "<table style=\"width:100%;\">\n",
    "  <tr>\n",
    "    <td style=\"width:50%; text-align:left;\">\n",
    "      <img src=\"../static/EOPF-BIDS.png\" alt=\"Project Logo\" style=\"height:250px; max-width:100%;\">\n",
    "    </td>\n",
    "    <td style=\"width:50%; text-align:right;\">\n",
    "      <img src=\"../static/BiDs2025_KV_250619.png\" alt=\"BIDS 2025 Logo\" style=\"height:250px; max-width:100%;\">\n",
    "    </td>\n",
    "  </tr>\n",
    "</table>"
   ]
  },
  {
   "cell_type": "markdown",
   "id": "f4996eab",
   "metadata": {},
   "source": [
    "<table width=\"100%\">\n",
    "  <tr>\n",
    "    <td width=\"100%\" align=\"center\">\n",
    "      <h1 style=\"text-align: center; margin-bottom: 0.3em; font-weight: bold;\">\n",
    "        EOPF STAC Introduction Tasks\n",
    "      </h1>\n",
    "      <div style=\"height: 0.5em;\"></div>\n",
    "    </td>\n",
    "  </tr>\n",
    "</table>\n",
    "\n",
    "**Author(s):** Gisela Romero Candanedo, Julia Wagemann   \n",
    "**Affiliation:** thriveGEO  \n",
    "**Contact:** gisela@thrivegeo.com \n",
    "\n",
    "---\n",
    "\n"
   ]
  },
  {
   "cell_type": "markdown",
   "id": "b9655675",
   "metadata": {},
   "source": [
    "## Introduction\n",
    "\n",
    "In this section, we will dive into the programmatic access of EOPF Zarr Collections available in the [EOPF Sentinel Zarr Sample Service STAC Catalog](https://stac.browser.user.eopf.eodc.eu/?.language=en). We will introduce Python libraries that enable us to effectively access and search through STAC.\n",
    "\n",
    "<div style=\"border: 2.5px solid #999; padding: 1em; border-radius: 6px; background-color: #eaeaea;\">\n",
    "  <strong>Objectives:</strong>\n",
    "  <ul>\n",
    "    <li> 🔍 How to **programmatically browse** through available collections available via the EOPF Zarr STAC Catalog</li>\n",
    "    <li> 📊 Understanding **collection metadata** in user-friendly terms</li>\n",
    "    <li> 🎯 **Searching for specific data** with help of the `pystac` and `pystac-client` libraries</li>\n",
    "  </ul>\n",
    "</div>\n",
    "\n",
    "\n",
    "> **Disclaimer**  \n",
    "> This notebook demonstrates the use of open source software and is intended for educational and illustrative purposes only.  \n",
    "> All software used is subject to its respective licenses. The authors and contributors of this notebook make no guarantees about the accuracy, reliability, or suitability of the content or included code.  \n",
    "> Use at your own discretion and risk. No warranties are provided, either express or implied.\n",
    "\n",
    "---"
   ]
  },
  {
   "cell_type": "markdown",
   "id": "d63d034e",
   "metadata": {},
   "source": [
    "## Setup\n",
    "\n",
    "For this tutorial, we will make use of the [pystac](https://pystac.readthedocs.io/en/stable/) and [pystac_client](https://pystac-client.readthedocs.io/en/latest/api.html) Python libraries that facilitate the programmatic access and efficient search of a STAC Catalog."
   ]
  },
  {
   "cell_type": "markdown",
   "id": "1eb3cbd9",
   "metadata": {},
   "source": [
    "<hr>"
   ]
  },
  {
   "cell_type": "markdown",
   "id": "dedabcae",
   "metadata": {},
   "source": [
    "#### Import libraries"
   ]
  },
  {
   "cell_type": "code",
   "execution_count": null,
   "id": "f4d31ab2",
   "metadata": {},
   "outputs": [],
   "source": [
    "from pystac_client import Client, CollectionClient\n",
    "from pystac import Collection, MediaType\n",
    "import datetime\n",
    "from dateutil.tz import tzutc\n",
    "import xarray as xr\n",
    "import matplotlib.pyplot as plt\n",
    "import stackstac\n",
    "import numpy as np\n",
    "import os"
   ]
  },
  {
   "cell_type": "markdown",
   "id": "1c111561",
   "metadata": {},
   "source": [
    "#### Helper functions"
   ]
  },
  {
   "cell_type": "markdown",
   "id": "eb32d094",
   "metadata": {},
   "source": [
    "##### `list_found_elements`\n",
    "As we are expecting to visualise several elements that will be stored in lists, we define a function that will allow us retrieve item `id`'s and collections `id`'s for further retrieval."
   ]
  },
  {
   "cell_type": "code",
   "execution_count": null,
   "id": "62c341d3",
   "metadata": {},
   "outputs": [],
   "source": [
    "def list_found_elements(search_result):\n",
    "    id = []\n",
    "    coll = []\n",
    "    for item in search_result.items(): #retrieves the result inside the catalogue.\n",
    "        id.append(item.id)\n",
    "        coll.append(item.collection_id)\n",
    "    return id , coll"
   ]
  },
  {
   "cell_type": "markdown",
   "id": "e11bfbab",
   "metadata": {},
   "source": [
    "##### `normalisation_str_gm()`\n",
    "\n",
    "Applies percentile-based contrast stretching and gamma correction to a band.\n",
    "\n",
    "Recieves:\n",
    "\n",
    "- `band_array` : the extracted `xarray` for the selected band\n",
    "- `p_min` : percentile min value\n",
    "- `p_max`: percentile max value\n",
    "- `gamma_val`: gamma correction"
   ]
  },
  {
   "cell_type": "code",
   "execution_count": null,
   "id": "6943c499",
   "metadata": {},
   "outputs": [],
   "source": [
    "def normalisation_str_gm(band_array, p_min, p_max, gamma_val):\n",
    "\n",
    "    # Calculate min and max values based on percentiles for stretching\n",
    "    min_val = np.percentile(band_array[band_array > 0], p_min) if np.any(band_array > 0) else 0\n",
    "    max_val = np.percentile(band_array[band_array > 0], p_max) if np.any(band_array > 0) else 1\n",
    "\n",
    "    # Avoid division by zero if min_val equals max_val\n",
    "    if max_val == min_val:\n",
    "        stretched_band = np.zeros_like(band_array, dtype=np.float32)\n",
    "    else:\n",
    "        # Linear stretch to 0-1 range\n",
    "        stretched_band = (band_array - min_val) / (max_val - min_val)\n",
    "\n",
    "    # Clip values to ensure they are within [0, 1] after stretching\n",
    "    stretched_band[stretched_band < 0] = 0\n",
    "    stretched_band[stretched_band > 1] = 1\n",
    "\n",
    "    # Apply gamma correction\n",
    "    gamma_corrected_band = np.power(stretched_band, 1.0 / gamma_val)\n",
    "\n",
    "    # Returns the corrected array:\n",
    "    return gamma_corrected_band"
   ]
  },
  {
   "cell_type": "markdown",
   "id": "1de675f0",
   "metadata": {},
   "source": [
    "## Establish a connection to the EOPF Zarr STAC Catalog\n",
    "Our first step is to establish a connection to the EOPF Sentinel Zarr Sample Service STAC Catalog. For this, you need the Catalog's base URL, which you can find on the web interface under the **API & URL** tab. By clicking on 🔗**Source**, you will get the address of the STAC metadata file - which is available [here](https://stac.core.eopf.eodc.eu/)."
   ]
  },
  {
   "cell_type": "markdown",
   "id": "25fbf2fe",
   "metadata": {},
   "source": [
    "![EOPF API url for connection](img/api_connection.png)"
   ]
  },
  {
   "cell_type": "markdown",
   "id": "27f6f6ea",
   "metadata": {},
   "source": [
    "Copy paste the URL: `https://stac.core.eopf.eodc.eu/`.\n",
    "\n",
    "With the `Client.open()` function, we can create the access to the starting point of the Catalog by providing the specific url. \n",
    "If the connection was successful, you will see the description of the STAC catalog and additional information."
   ]
  },
  {
   "cell_type": "code",
   "execution_count": null,
   "id": "fe895dc4",
   "metadata": {},
   "outputs": [],
   "source": [
    "eopf_stac_api_root_endpoint = 'https://stac.core.eopf.eodc.eu/' #root starting point\n",
    "eopf_stac_catalog = Client.open(url=eopf_stac_api_root_endpoint) # calls the selected url\n",
    "eopf_stac_catalog"
   ]
  },
  {
   "cell_type": "markdown",
   "id": "b3c57876",
   "metadata": {},
   "source": [
    "Congratulations! We successfully connected to the EOPF Zarr STAC Catalog, and we can now start exploring its content."
   ]
  },
  {
   "cell_type": "code",
   "execution_count": null,
   "id": "4be55cf9",
   "metadata": {},
   "outputs": [],
   "source": [
    "eopf_stac_catalog.description"
   ]
  },
  {
   "cell_type": "markdown",
   "id": "35696e33",
   "metadata": {},
   "source": [
    "## Explore available collections\n",
    "\n",
    "Once a connection established, the next logical step is to get an overview of all the collections the STAC catalog offers.\n",
    "\n",
    "**Please note:** Since the EOPF Zarr STAC Catalog is still in active development, we need to explore each collection\n",
    "\n",
    "You see, that so far, we can browse through 11 available collections"
   ]
  },
  {
   "cell_type": "code",
   "execution_count": null,
   "id": "01249149",
   "metadata": {},
   "outputs": [],
   "source": [
    "sentinel_collections = sorted([x.id for x in list(eopf_stac_catalog.get_all_collections())])\n",
    "print(sentinel_collections)"
   ]
  },
  {
   "cell_type": "markdown",
   "id": "7c463ef2",
   "metadata": {},
   "source": [
    "We can select any `collection` and retrieve certain metadata that allow us to get more information about it, such as keywords, the ID and useful links for resources.<br>\n",
    "For this, we use the `.get_collection()` argument, and add the corresponding collection `id` we got earlier."
   ]
  },
  {
   "cell_type": "markdown",
   "id": "cf94f8bf",
   "metadata": {},
   "source": [
    "### Sentinel-1 Level-1 GDR"
   ]
  },
  {
   "cell_type": "code",
   "execution_count": null,
   "id": "f7cabe9d",
   "metadata": {},
   "outputs": [],
   "source": [
    "s1_l1_gdr = eopf_stac_catalog.get_collection(sentinel_collections[0])\n",
    "print('Keywords:        ', s1_l1_gdr.keywords)\n",
    "print('Catalog ID:      ', s1_l1_gdr.id)\n",
    "print('Available Links: ', s1_l1_gdr.links)\n",
    "print('Temporal extent: ', [[dt.strftime('%Y-%m-%d %H:%M:%S') for dt in interval] for interval in s1_l1_gdr.extent.temporal.intervals])"
   ]
  },
  {
   "cell_type": "markdown",
   "id": "b1816355",
   "metadata": {},
   "source": [
    "### Sentinel-2 Level-2A"
   ]
  },
  {
   "cell_type": "code",
   "execution_count": null,
   "id": "277b3cb6",
   "metadata": {},
   "outputs": [],
   "source": [
    "s2_l2a_c = eopf_stac_catalog.get_collection(sentinel_collections[4])\n",
    "print('Keywords:        ', s2_l2a_c.keywords)\n",
    "print('Catalog ID:      ', s2_l2a_c.id)\n",
    "print('Available Links: ', s2_l2a_c.links)\n",
    "print('Temporal extent: ', [[dt.strftime('%Y-%m-%d %H:%M:%S') for dt in interval] for interval in s2_l2a_c.extent.temporal.intervals])"
   ]
  },
  {
   "cell_type": "markdown",
   "id": "3eb83436",
   "metadata": {},
   "source": [
    "### Sentinel-3 SLSTR Level-2 LST"
   ]
  },
  {
   "cell_type": "code",
   "execution_count": null,
   "id": "233a82f2",
   "metadata": {},
   "outputs": [],
   "source": [
    "s3_slstr_lst = eopf_stac_catalog.get_collection(sentinel_collections[10])\n",
    "print('Keywords:        ', s3_slstr_lst.keywords)\n",
    "print('Catalog ID:      ', s3_slstr_lst.id)\n",
    "print('Available Links: ', s3_slstr_lst.links)\n",
    "print('Temporal extent: ', [[dt.strftime('%Y-%m-%d %H:%M:%S') for dt in interval] for interval in s3_slstr_lst.extent.temporal.intervals])"
   ]
  },
  {
   "cell_type": "markdown",
   "id": "34513705",
   "metadata": {},
   "source": [
    "## Searching inside the EOPF STAC API"
   ]
  },
  {
   "cell_type": "markdown",
   "id": "bdb6ec7e",
   "metadata": {},
   "source": [
    "With the `.search()` function of the `pystac-client` library, we can search inside a STAC catalog we established a connection with. We can filter based on a series of parameters to tailor the search for available data for a specific time period and geographic bounding box. \n",
    "\n",
    "For this, we specify the `datetime` argument for a time period we are interested in, e.g. from **1st March 2025** to **31st May 2025**, over **Riga**."
   ]
  },
  {
   "cell_type": "code",
   "execution_count": null,
   "id": "3132d1f9",
   "metadata": {},
   "outputs": [],
   "source": [
    "sel_bbox = []  # MODIFY HERE\n",
    "start_d = ''   # MODIFY HERE\n",
    "end_d   = ''   # MODIFY HERE"
   ]
  },
  {
   "cell_type": "markdown",
   "id": "5e235fd2",
   "metadata": {},
   "source": [
    "### Filter for temporal extent\n",
    "\n",
    "Let us search on the `datetime` parameter. In addition, we also specify the `collection` parameter indicating that we only want to search for the Sentinel-1 Level-1 GRD collection. \n",
    "\n",
    "##### Sentinel-1 Level-1 GRD\n",
    "We apply the helper function `list_found_elements` which constructs a list from the search result. If we check the length of the final list, we can see that for the specified time period:"
   ]
  },
  {
   "cell_type": "code",
   "execution_count": null,
   "id": "3cfa2ca6",
   "metadata": {},
   "outputs": [],
   "source": [
    "inter = start_d + 'T00:00:00Z/' + end_d + 'T23:59:59.999999Z' # interest period\n",
    "print(inter)"
   ]
  },
  {
   "cell_type": "markdown",
   "id": "a37b9081",
   "metadata": {},
   "source": [
    "### Filter for spatial extent\n",
    "Now, let us filter based on a specific area of interest. We can use the `bbox` argument, which is composed by providing the top-left and bottom-right corner coordinates. It is similar to drawing the extent in the interactive map of the EOPF browser interface.\n",
    "\n",
    "##### Sentinel-1 Level-1 GRD\n",
    "For example, we defined a bounding box over **Sicily**. We then again apply the helper function `list_found_elements` and see:"
   ]
  },
  {
   "cell_type": "code",
   "execution_count": null,
   "id": "8d14a419",
   "metadata": {},
   "outputs": [],
   "source": [
    "s1_search = eopf_stac_catalog.search(\n",
    "    bbox= sel_bbox,\n",
    "    collections= sentinel_collections[0], # interest Collection\n",
    "    datetime = inter # interest period\n",
    ")\n",
    "\n",
    "found_r_w_s = list_found_elements(s1_search)\n",
    "print(\"Search Results:\")\n",
    "print('Total Items Found for the Sentinel-1 L1 GDR Collection over Sicily: ',len(found_r_w_s[0]))"
   ]
  },
  {
   "cell_type": "markdown",
   "id": "90d9ae64",
   "metadata": {},
   "source": [
    "##### Sentinel-2 Level-2A"
   ]
  },
  {
   "cell_type": "code",
   "execution_count": null,
   "id": "7197a45e",
   "metadata": {},
   "outputs": [],
   "source": [
    "s2_search = eopf_stac_catalog.search(\n",
    "    bbox= sel_bbox,\n",
    "    collections= sentinel_collections[4], # interest Collection\n",
    "    datetime = inter, # interest period\n",
    "    query = {'eo:cloud_cover': {'lte': 30}}\n",
    ")\n",
    "\n",
    "found_r_w_s_s2 = list_found_elements(s2_search)\n",
    "print(\"Search Results:\")\n",
    "print('Total Items Found for the Sentinel-2 L2A Collection over Vienna: ',len(found_r_w_s_s2[0]))"
   ]
  },
  {
   "cell_type": "markdown",
   "id": "5454ee1b",
   "metadata": {},
   "source": [
    "## Retrieve Asset URLs for accessing the data\n",
    "So far, we have made a search among the STAC catalog and browsed over the general metadata of the collections. To access the actual EOPF Zarr `Items`, we need to get their storage location in the cloud.\n",
    "\n",
    "The relevant information we can find inside the `.items` argument by the `.get_assets()` function. Inside, it allows us to specify the `.MediaType` we are interested in. In our example, we want to obtain the location of the `.zarr` file.\n",
    "\n",
    "Let us retrieve the `url` form the available found items form the Sentinel-2 L2A Collection for `s2_riga_cloud_search`. The resulting URL we can then use to directly access an asset in our workflow."
   ]
  },
  {
   "cell_type": "code",
   "execution_count": null,
   "id": "7b4c165f",
   "metadata": {},
   "outputs": [],
   "source": [
    "#Lets access the first S2 L2A image we found over Riga with less than 30% clouds:\n",
    "f_i_s2 = found_r_w_s_s2[0][3]\n",
    "print(f_i_s2)"
   ]
  },
  {
   "cell_type": "code",
   "execution_count": null,
   "id": "f77ddcf8",
   "metadata": {},
   "outputs": [],
   "source": [
    "c_sentinel2 = eopf_stac_catalog.get_collection(sentinel_collections[4])\n",
    "#Choosing the first item available to be opened:\n",
    "item= c_sentinel2.get_item(id=f_i_s2)\n",
    "item_assets = item.get_assets(media_type=MediaType.ZARR)\n",
    "\n",
    "cloud_storage = item_assets['product'].href\n",
    "\n",
    "print('Item cloud storage URL for retrieval:', cloud_storage)"
   ]
  },
  {
   "cell_type": "markdown",
   "id": "64f1a4f3",
   "metadata": {},
   "source": [
    "## Examining Dataset Structure\n",
    "In the following step, we open the cloud-optimised Zarr dataset using `xarray.open_datatree` supported by the `zarr` engine.\n",
    "\n",
    "The subsequent loop then prints out all the available groups within the opened `DataTree`, providing a comprehensive overview of the hierarchical structure of the EOPF Zarr products."
   ]
  },
  {
   "cell_type": "code",
   "execution_count": null,
   "id": "0d82d362",
   "metadata": {},
   "outputs": [],
   "source": [
    "dt = xr.open_datatree(\n",
    "    cloud_storage,        # the cloud storage url from the Item we are interested in\n",
    "    engine='zarr',        # xarray-eopf defined engine \n",
    "    chunks= {})           # retrives the default chunking structure\n",
    "\n",
    "for dt_group in sorted(dt.groups):\n",
    "    print(\"DataTree group {group_name}\".format(group_name=dt_group)) # getting the available groups"
   ]
  },
  {
   "cell_type": "markdown",
   "id": "79cb234f",
   "metadata": {},
   "source": [
    "## Visualising the RGB quicklook composite\n",
    "EOPF Zarr Assets include a quick-look RGB composite, which we now want to open and visuliase. We open the Zarr dataset again, but this time, we specifically target the `quality/l2a_quicklook/r20m/tci`.\n",
    "\n",
    "This group contains a true colour (RGB) quick-look composite, which is a readily viewable representation of the satellite image. By adding `.plot.imshow()` we can load the quick-look."
   ]
  },
  {
   "cell_type": "code",
   "execution_count": null,
   "id": "58a7d9f7",
   "metadata": {},
   "outputs": [],
   "source": [
    "dt['quality/l2a_quicklook/r20m/tci'].plot.imshow()\n",
    "plt.title('RGB Quicklook')\n",
    "plt.xlabel('X-coordinate')\n",
    "plt.ylabel('Y-coordinate')\n",
    "plt.grid(False) # Turn off grid for image plots\n",
    "plt.axis('tight') # Ensure axes fit the data tightly"
   ]
  },
  {
   "cell_type": "markdown",
   "id": "ccbc374c",
   "metadata": {},
   "source": [
    "## Creating our own RGB\n",
    "\n",
    "For the composite creation, `zarr_meas` contains the assets we are interested in. The TCI composite makes use of the **red** (B04), **green** (B03), and **blue** (B02) bands to create a view that looks natural to the human eye."
   ]
  },
  {
   "cell_type": "code",
   "execution_count": null,
   "id": "64bfd352",
   "metadata": {},
   "outputs": [],
   "source": [
    "# True colour channels we are interested to retrieve coposite:\n",
    "tc_red  = 'b04'\n",
    "tc_green= 'b03'\n",
    "tc_blue = 'b02'\n",
    "zarr_meas = dt.measurements.reflectance.r20m\n",
    "\n",
    "# The tc_red, tc_green, and tc_blue variables are inputs specifying the band names\n",
    "red = zarr_meas[tc_red]\n",
    "gre = zarr_meas[tc_green]\n",
    "blu = zarr_meas[tc_blue]\n",
    "\n",
    "# Visualising the red band:\n",
    "plt.imshow(gre)\n",
    "plt.title('Red Reflectance (b04)')"
   ]
  },
  {
   "cell_type": "markdown",
   "id": "043bd13d",
   "metadata": {},
   "source": [
    "By this point, we have not accessed the data on disk.\n",
    "For doing so, we need to call the `.values` function from xarray"
   ]
  },
  {
   "cell_type": "code",
   "execution_count": null,
   "id": "9a3bc8ae",
   "metadata": {},
   "outputs": [],
   "source": [
    "# The tc_red, tc_green, and tc_blue variables are inputs specifying the band names\n",
    "red = zarr_meas[tc_red].values\n",
    "gre = zarr_meas[tc_green].values\n",
    "blu = zarr_meas[tc_blue].values"
   ]
  },
  {
   "cell_type": "markdown",
   "id": "e1262734",
   "metadata": {},
   "source": [
    "To create the composite image, we need to **normalise** each of the input assets. Normalisation ensures that the bands have a consistent and predictable range of values. This supports optimal data processing and removes the influence of external factors (like changing light conditions) allowing for a meaningful comparison among generated composites.\n",
    "\n",
    "The `normalisation_str_gm()` function achieves this by scaling the reflectance values to a standard range (0-255) using the percentile-based method.\n",
    "\n",
    "Once the values for our three bands have been normalised, they can be stacked in an **RGB** format to generate the initial True Colour Image (TCI)."
   ]
  },
  {
   "cell_type": "code",
   "execution_count": null,
   "id": "e77c3861",
   "metadata": {},
   "outputs": [],
   "source": [
    "# Input: percentile range for contrast stretching\n",
    "contrast_stretch_percentile=(2, 98)\n",
    "# Input: gamma correction value\n",
    "gamma=1.8\n",
    "\n",
    "# Apply normalisation to the red, green and blue bands using the specified percentile and gamma values\n",
    "red_processed = normalisation_str_gm(red, *contrast_stretch_percentile, gamma)\n",
    "green_processed = normalisation_str_gm(gre, *contrast_stretch_percentile, gamma)\n",
    "blue_processed = normalisation_str_gm(blu, *contrast_stretch_percentile, gamma)\n",
    "\n",
    "# We stack the processed red, green, and blue arrays\n",
    "rgb_composite_sm = np.dstack((red_processed, green_processed, blue_processed)).astype(np.float32)\n",
    "\n",
    "plt.imshow(rgb_composite_sm)\n",
    "plt.title('RGB Composite')"
   ]
  },
  {
   "cell_type": "markdown",
   "id": "bd0e7029",
   "metadata": {},
   "source": [
    "## Chunking structure\n",
    "\n",
    "We can have a look at the reflectance values at 20m resolution chunking strategies by adding `.chunksizes` to the `r20m` group."
   ]
  },
  {
   "cell_type": "code",
   "execution_count": null,
   "id": "e7fc37d9",
   "metadata": {},
   "outputs": [],
   "source": [
    "zarr_chunks_r20 = dt.measurements.reflectance.r20m.chunksizes\n",
    "print(zarr_chunks_r20)"
   ]
  },
  {
   "cell_type": "markdown",
   "id": "19ae0e5f",
   "metadata": {},
   "source": [
    "For exploring each of the x and y dimensions, we retrieve the list for each:"
   ]
  },
  {
   "cell_type": "code",
   "execution_count": null,
   "id": "fc44cfae",
   "metadata": {},
   "outputs": [],
   "source": [
    "y_values_20 = zarr_chunks_r20['/measurements/reflectance/r20m']['y']\n",
    "x_values_20 = zarr_chunks_r20['/measurements/reflectance/r20m']['x']\n",
    "\n",
    "print(\"Chunking Strategies for r20m:\")\n",
    "print('x # of chunks: ',len(x_values_20))\n",
    "print('x chunk size : ',x_values_20[0])\n",
    "print('y # of chunks: ',len(y_values_20))\n",
    "print('y chunk size : ',y_values_20[0])"
   ]
  },
  {
   "cell_type": "markdown",
   "id": "a4bab0f7",
   "metadata": {},
   "source": [
    "We can also explore `10m` resolution:"
   ]
  },
  {
   "cell_type": "code",
   "execution_count": null,
   "id": "49957c5f",
   "metadata": {},
   "outputs": [],
   "source": [
    "zarr_chunks_r10 = dt.measurements.reflectance.r10m.chunksizes\n",
    "y_values_10 = zarr_chunks_r10['/measurements/reflectance/r10m']['y']\n",
    "x_values_10 = zarr_chunks_r10['/measurements/reflectance/r10m']['x']\n",
    "\n",
    "print(\"Chunking Strategies for r10m:\")\n",
    "print('x # of chunks: ',len(x_values_10))\n",
    "print('x chunk size : ',x_values_10[0])\n",
    "print('y # of chunks: ',len(y_values_10))\n",
    "print('y chunk size : ',y_values_10[0])"
   ]
  },
  {
   "cell_type": "markdown",
   "id": "efa78dcd",
   "metadata": {},
   "source": [
    "And the same for `60m` resolution:"
   ]
  },
  {
   "cell_type": "code",
   "execution_count": null,
   "id": "cd926c79",
   "metadata": {},
   "outputs": [],
   "source": [
    "zarr_chunks_r60 = dt.measurements.reflectance.r60m.chunksizes\n",
    "y_values_60 = zarr_chunks_r60['/measurements/reflectance/r60m']['y']\n",
    "x_values_60 = zarr_chunks_r60['/measurements/reflectance/r60m']['x']\n",
    "\n",
    "print(\"Chunking Strategies for r60m:\")\n",
    "print('x # of chunks: ',len(x_values_60))\n",
    "print('x chunk size : ',x_values_60[0])\n",
    "print('y # of chunks: ',len(y_values_60))\n",
    "print('y chunk size : ',y_values_60[0])"
   ]
  },
  {
   "cell_type": "markdown",
   "id": "4d2d8cda",
   "metadata": {},
   "source": [
    "## Conclusion"
   ]
  },
  {
   "cell_type": "markdown",
   "id": "1affc2a5",
   "metadata": {},
   "source": [
    "In this section we established a connection to the [EOPF Sentinel Zarr Sample Service STAC Catalog](https://stac.browser.user.eopf.eodc.eu/?.language=en) and directly accessed an EOPF Zarr item with `xarray`. In the tutorial you are guided through the process of opening hierarchical EOPF Zarr products using `xarray`'s `DataTree`, a library designed for accessing complex hierarchical data structures.<br>\n",
    "We also brought data to disk and processed it to obtain an RGB composite, always highlighting the flexibility of data retrieval through **STAC** and the `zarr` format."
   ]
  },
  {
   "cell_type": "markdown",
   "id": "e880d755",
   "metadata": {},
   "source": [
    "<hr>"
   ]
  },
  {
   "cell_type": "markdown",
   "id": "35d35b56",
   "metadata": {},
   "source": [
    "## What's Next?\n",
    "\n",
    "In the following section we will explore the application of an **RBG** composite creation a **True Colour Image** from **Sentinel-2 L2A** data for the day of the fire.\n",
    "\n",
    "To obtain a more detailed overview of a natural event, we will integrate an additional dataset into our workflow: **Sentinel-3** data. This will enable us to analyse thermal information and pinpoint the active fire's location."
   ]
  },
  {
   "cell_type": "markdown",
   "id": "7ed2893e",
   "metadata": {},
   "source": [
    "<table width=\"100%\" style=\"padding-top: 10px; text-align: center;\">\n",
    "  <tr>\n",
    "    <td style=\"font-size: 0.85em; color: #666; vertical-align: middle;\">\n",
    "      &copy; 2025 <a href=\"https://zarr.eopf.copernicus.eu/\" target=\"_blank\"><strong>EOPF Sentinel Zarr Samples</strong></a> &nbsp;|&nbsp;\n",
    "      &copy; 2025 <a href=\"https://github.com/eopf-toolkit\" target=\"_blank\"><strong>EOPF Toolkit</strong></a>\n",
    "      <br><br>\n",
    "      <img src=\"../static/EOPF-Toolkit-Sample.png\" alt=\"Project Logo\" width=\"400\" style=\"margin-top: 5px;\">\n",
    "    </td>\n",
    "  </tr>\n",
    "</table>"
   ]
  }
 ],
 "metadata": {
  "kernelspec": {
   "display_name": "Python 3 (ipykernel)",
   "language": "python",
   "name": "python3"
  },
  "language_info": {
   "codemirror_mode": {
    "name": "ipython",
    "version": 3
   },
   "file_extension": ".py",
   "mimetype": "text/x-python",
   "name": "python",
   "nbconvert_exporter": "python",
   "pygments_lexer": "ipython3",
   "version": "3.13.7"
  }
 },
 "nbformat": 4,
 "nbformat_minor": 5
}
