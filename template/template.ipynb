{
 "cells": [
  {
   "cell_type": "markdown",
   "id": "e6f963d8-ec62-469d-bb08-4f778b3455fe",
   "metadata": {},
   "source": [
    "# Title\n",
    "\n",
    "**Author(s):** Your Name(s)  \n",
    "**Affiliation:** Your Company  \n",
    "**Contact:** person.of.contact@example.org\n",
    "\n",
    "---\n",
    "\n"
   ]
  },
  {
   "cell_type": "markdown",
   "id": "d5046f48-6f3b-4821-a767-efee0069ed04",
   "metadata": {},
   "source": [
    "## Introduction\n",
    "\n",
    "Briefly describe the context of this notebook and  what it demonstrates.\n",
    "\n",
    "<div style=\"border: 2.5px solid #999; padding: 1em; border-radius: 6px; background-color: #eaeaea; margin-bottom: 1em;\">\n",
    "  <strong>Questions:</strong>\n",
    "  <ul>\n",
    "    <li>What key questions does this notebook aim to answer?</li>\n",
    "  </ul>\n",
    "</div>\n",
    "\n",
    "<div style=\"border: 2.5px solid #999; padding: 1em; border-radius: 6px; background-color: #eaeaea;\">\n",
    "  <strong>Objectives:</strong>\n",
    "  <ul>\n",
    "    <li>Explain what the participant will learn by the end</li>\n",
    "    <li>Highlight expected outcomes or takeaways</li>\n",
    "  </ul>\n",
    "</div>\n",
    "\n",
    "\n",
    "> **Disclaimer**  \n",
    "> This notebook demonstrates the use of open source software and is intended for educational and illustrative purposes only. All software used is subject to its respective licenses. The authors and contributors of this notebook make no guarantees about the accuracy, reliability, or suitability of the content or included code. Use at your own discretion and risk. No warranties are provided, either express or implied.\n",
    "\n",
    "---"
   ]
  },
  {
   "cell_type": "markdown",
   "id": "36d71b75-eddd-4bd9-a98c-459eeb658da8",
   "metadata": {},
   "source": [
    "## Table of Contents\n",
    "\n",
    "<ul style=\"list-style-type:none; padding-left: 0;\">\n",
    "  <li>🔹 <a href=\"#Setup\"><strong>Setup</strong></a></li>\n",
    "  <li>🔹 <a href=\"#Section-1\"><strong>Section 1</strong></a> <em>(adjust accordingly)</em></li>\n",
    "  <li>🔹 <a href=\"#Section-2\"><strong>Section 2</strong></a> <em>(adjust accordingly)</em></li>\n",
    "  <li>🔹 ...</li>\n",
    "  <li>🔹 <a href=\"#Conclusion\"><strong>Conclusion</strong></a></li>\n",
    "</ul>\n",
    "\n",
    "<hr>\n"
   ]
  },
  {
   "cell_type": "markdown",
   "id": "e08542ca-0f9e-4dd7-89a2-af196b6b57fe",
   "metadata": {},
   "source": [
    "## Setup\n",
    "\n",
    "- give instructions what needs to be installed so that the notebook is execuable\n",
    "- include package versions\n",
    "- include configuration of environment if needed\n",
    "---"
   ]
  },
  {
   "cell_type": "markdown",
   "id": "36064ff3-9aad-4011-aacc-2e54d353740a",
   "metadata": {},
   "source": [
    "## Section 1\n",
    "\n",
    "Add descriptive text cells to explain the code and provide background information about the software shown. Ensure the notebook is clearly structured and filled with informative commentary to enhance understanding.\n",
    "\n",
    "---"
   ]
  },
  {
   "cell_type": "markdown",
   "id": "89da7a8a-a5cc-4bc0-a19d-14ea49ec3bfc",
   "metadata": {},
   "source": [
    "## Section 2\n",
    "\n",
    "Add descriptive text cells to explain the code and provide background information about the software shown. Ensure the notebook is clearly structured and filled with informative commentary to enhance understanding.\n",
    "\n",
    "---"
   ]
  },
  {
   "cell_type": "markdown",
   "id": "151c5c66-f91c-4e4c-a5fa-50a8fab5774c",
   "metadata": {},
   "source": [
    "## Conclusion \n",
    "\n",
    "Try to present a small wrap up\n",
    "\n",
    "---\n"
   ]
  },
  {
   "cell_type": "markdown",
   "id": "d475cfc1-0b1e-478a-b8d9-e5d6f108bc8c",
   "metadata": {},
   "source": [
    "<table width=\"100%\" style=\"padding-top: 10px; text-align: center;\">\n",
    "  <tr>\n",
    "    <td style=\"font-size: 0.85em; color: #666; vertical-align: middle;\">\n",
    "      &copy; 2025 <a href=\"https://zarr.eopf.copernicus.eu/\" target=\"_blank\"><strong>EOPF Sentinel Zarr Samples</strong></a> &nbsp;|&nbsp;\n",
    "      &copy; 2025 <a href=\"https://github.com/eopf-toolkit\" target=\"_blank\"><strong>EOPF Toolkit</strong></a>\n",
    "      <br><br>\n",
    "      <img src=\"../static/EOPF-Toolkit-Sample.png\" alt=\"Project Logo\" width=\"400\" style=\"margin-top: 5px;\">\n",
    "    </td>\n",
    "  </tr>\n",
    "</table>"
   ]
  }
 ],
 "metadata": {
  "author": [
   {
    "@type": "Person",
    "familyName": "Claus",
    "givenName": "Michele",
    "url": "https://orcid.org/0000-0003-3680-381X",
    "worksFor": {
     "@type": "Organization",
     "name": "Eurac Research"
    }
   }
  ],
  "funder": [
   {
    "name": "ESA"
   }
  ],
  "kernelspec": {
   "display_name": "Python 3 (ipykernel)",
   "language": "python",
   "name": "python3"
  },
  "language_info": {
   "codemirror_mode": {
    "name": "ipython",
    "version": 3
   },
   "file_extension": ".py",
   "mimetype": "text/x-python",
   "name": "python",
   "nbconvert_exporter": "python",
   "pygments_lexer": "ipython3",
   "version": "3.13.7"
  },
  "name": "Notebook Title",
  "widgets": {
   "application/vnd.jupyter.widget-state+json": {
    "state": {},
    "version_major": 2,
    "version_minor": 0
   }
  }
 },
 "nbformat": 4,
 "nbformat_minor": 5
}
